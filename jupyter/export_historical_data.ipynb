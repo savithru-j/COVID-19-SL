{
 "cells": [
  {
   "cell_type": "code",
   "execution_count": 1,
   "id": "billion-letter",
   "metadata": {},
   "outputs": [],
   "source": [
    "import numpy as np\n",
    "import matplotlib.pyplot as plt\n",
    "import pandas as pd"
   ]
  },
  {
   "cell_type": "code",
   "execution_count": 4,
   "id": "artistic-fever",
   "metadata": {},
   "outputs": [],
   "source": [
    "df_global = pd.read_json(\"https://pomber.github.io/covid19/timeseries.json\")\n",
    "df = df_global['Sri Lanka']"
   ]
  },
  {
   "cell_type": "code",
   "execution_count": 5,
   "id": "working-spyware",
   "metadata": {},
   "outputs": [
    {
     "name": "stdout",
     "output_type": "stream",
     "text": [
      "Index(['date', 'confirmed', 'deaths', 'recovered'], dtype='object')\n"
     ]
    },
    {
     "data": {
      "text/plain": [
       "0       2020-1-22\n",
       "1       2020-1-23\n",
       "2       2020-1-24\n",
       "3       2020-1-25\n",
       "4       2020-1-26\n",
       "          ...    \n",
       "672    2021-11-24\n",
       "673    2021-11-25\n",
       "674    2021-11-26\n",
       "675    2021-11-27\n",
       "676    2021-11-28\n",
       "Name: date, Length: 677, dtype: object"
      ]
     },
     "execution_count": 5,
     "metadata": {},
     "output_type": "execute_result"
    }
   ],
   "source": [
    "true_data = pd.json_normalize(df)\n",
    "print(true_data.columns)\n",
    "true_data['date']"
   ]
  },
  {
   "cell_type": "code",
   "execution_count": 6,
   "id": "printable-finance",
   "metadata": {},
   "outputs": [
    {
     "name": "stdout",
     "output_type": "stream",
     "text": [
      "253\n",
      "           date  confirmed  deaths  recovered\n",
      "0     2020-10-1       3382      13       3233\n",
      "1     2020-10-2       3388      13       3245\n",
      "2     2020-10-3       3395      13       3254\n",
      "3     2020-10-4       3402      13       3258\n",
      "4     2020-10-5       3513      13       3259\n",
      "..          ...        ...     ...        ...\n",
      "419  2021-11-24     559605   14205          0\n",
      "420  2021-11-25     560345   14232          0\n",
      "421  2021-11-26     561059   14258          0\n",
      "422  2021-11-27     561778   14278          0\n",
      "423  2021-11-28     562520   14305          0\n",
      "\n",
      "[424 rows x 4 columns]\n"
     ]
    }
   ],
   "source": [
    "start_index = true_data.index[true_data['date'] == '2020-10-1']\n",
    "print(start_index[0])\n",
    "true_data.loc[start_index[0]]\n",
    "true_data_short = true_data[start_index[0]::]\n",
    "true_data_short.reset_index(drop=True, inplace=True)\n",
    "print(true_data_short)"
   ]
  },
  {
   "cell_type": "code",
   "execution_count": 10,
   "id": "stainless-template",
   "metadata": {},
   "outputs": [],
   "source": [
    "popN = 21323733;\n",
    "f = open(\"csv_data/srilanka.txt\", \"w\")\n",
    "f.write(str(popN) + \"\\n\")\n",
    "f.close()\n",
    "\n",
    "true_data_short.to_csv('csv_data/srilanka.txt', mode='a', header=False, index=False, \\\n",
    "                       columns=['confirmed', 'recovered', 'deaths'], sep=' ')"
   ]
  },
  {
   "cell_type": "code",
   "execution_count": 11,
   "id": "small-mandate",
   "metadata": {},
   "outputs": [
    {
     "name": "stdout",
     "output_type": "stream",
     "text": [
      "Int64Index([151], dtype='int64')\n",
      "Int64Index([273], dtype='int64')\n"
     ]
    }
   ],
   "source": [
    "IFR_index1 = true_data_short.index[true_data_short['date'] == '2021-3-1']\n",
    "IFR_index2 = true_data_short.index[true_data_short['date'] == '2021-7-1']\n",
    "print(IFR_index1)\n",
    "print(IFR_index2)"
   ]
  },
  {
   "cell_type": "code",
   "execution_count": 12,
   "id": "scheduled-terrace",
   "metadata": {},
   "outputs": [],
   "source": [
    "df_vaccine = pd.read_csv(\"https://docs.google.com/spreadsheets/d/e/2PACX-1vSckZ9FalsiAE1J8XbRKMCX_BFVYlvGPUlbddAki12uUFNoqc8lTucv3rSGn8ARsnIcM7c2Y_o4MQYB/pub?output=csv\")\n",
    "vaccine_start_index = true_data.index[pd.to_datetime(true_data['date']) == pd.to_datetime(df_vaccine['Date'][0])]\n",
    "cumulative_vaccinated = np.concatenate((np.zeros([vaccine_start_index[0] - start_index[0]]), df_vaccine['Sum Dose 2']))\n",
    "\n",
    "# daily_vaccinated = np.concatenate(([0], np.diff(cumulative_vaccinated))) \n",
    "# print(len(daily_vaccinated))\n",
    "cumulative_vaccinated.astype(int).tofile('csv_data/srilanka_vaccinations.txt', sep = '\\n')"
   ]
  },
  {
   "cell_type": "code",
   "execution_count": 8,
   "id": "creative-equation",
   "metadata": {},
   "outputs": [
    {
     "data": {
      "text/plain": [
       "date         2021-3-26\n",
       "confirmed        91561\n",
       "deaths             557\n",
       "recovered        88145\n",
       "Name: 429, dtype: object"
      ]
     },
     "execution_count": 8,
     "metadata": {},
     "output_type": "execute_result"
    }
   ],
   "source": [
    "true_data.loc[start_index[0]+176]"
   ]
  },
  {
   "cell_type": "code",
   "execution_count": null,
   "id": "stopped-narrative",
   "metadata": {},
   "outputs": [],
   "source": []
  },
  {
   "cell_type": "code",
   "execution_count": null,
   "id": "suited-fluid",
   "metadata": {},
   "outputs": [],
   "source": []
  }
 ],
 "metadata": {
  "kernelspec": {
   "display_name": "Python 3",
   "language": "python",
   "name": "python3"
  },
  "language_info": {
   "codemirror_mode": {
    "name": "ipython",
    "version": 3
   },
   "file_extension": ".py",
   "mimetype": "text/x-python",
   "name": "python",
   "nbconvert_exporter": "python",
   "pygments_lexer": "ipython3",
   "version": "3.8.10"
  }
 },
 "nbformat": 4,
 "nbformat_minor": 5
}
