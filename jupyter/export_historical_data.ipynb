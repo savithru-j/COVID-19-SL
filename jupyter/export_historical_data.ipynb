{
 "cells": [
  {
   "cell_type": "code",
   "execution_count": 93,
   "id": "billion-letter",
   "metadata": {},
   "outputs": [],
   "source": [
    "import numpy as np\n",
    "import matplotlib.pyplot as plt\n",
    "import pandas as pd"
   ]
  },
  {
   "cell_type": "code",
   "execution_count": 94,
   "id": "artistic-fever",
   "metadata": {},
   "outputs": [],
   "source": [
    "df_global = pd.read_json(\"https://pomber.github.io/covid19/timeseries.json\")\n",
    "df = df_global['Sri Lanka']"
   ]
  },
  {
   "cell_type": "code",
   "execution_count": 95,
   "id": "working-spyware",
   "metadata": {},
   "outputs": [
    {
     "name": "stdout",
     "output_type": "stream",
     "text": [
      "Index(['date', 'confirmed', 'deaths', 'recovered'], dtype='object')\n"
     ]
    },
    {
     "data": {
      "text/plain": [
       "0       2020-1-22\n",
       "1       2020-1-23\n",
       "2       2020-1-24\n",
       "3       2020-1-25\n",
       "4       2020-1-26\n",
       "          ...    \n",
       "623     2021-10-6\n",
       "624     2021-10-7\n",
       "625     2021-10-8\n",
       "626     2021-10-9\n",
       "627    2021-10-10\n",
       "Name: date, Length: 628, dtype: object"
      ]
     },
     "execution_count": 95,
     "metadata": {},
     "output_type": "execute_result"
    }
   ],
   "source": [
    "true_data = pd.json_normalize(df)\n",
    "print(true_data.columns)\n",
    "true_data['date']"
   ]
  },
  {
   "cell_type": "code",
   "execution_count": 96,
   "id": "printable-finance",
   "metadata": {},
   "outputs": [
    {
     "name": "stdout",
     "output_type": "stream",
     "text": [
      "253\n",
      "           date  confirmed  deaths  recovered\n",
      "0     2020-10-1       3382      13       3233\n",
      "1     2020-10-2       3388      13       3245\n",
      "2     2020-10-3       3395      13       3254\n",
      "3     2020-10-4       3402      13       3258\n",
      "4     2020-10-5       3513      13       3259\n",
      "..          ...        ...     ...        ...\n",
      "370   2021-10-6     522778   13185          0\n",
      "371   2021-10-7     523550   13229          0\n",
      "372   2021-10-8     524937   13267          0\n",
      "373   2021-10-9     525663   13296          0\n",
      "374  2021-10-10     526383   13331          0\n",
      "\n",
      "[375 rows x 4 columns]\n"
     ]
    }
   ],
   "source": [
    "start_index = true_data.index[true_data['date'] == '2020-10-1']\n",
    "print(start_index[0])\n",
    "true_data.loc[start_index[0]]\n",
    "true_data_short = true_data[start_index[0]::]\n",
    "true_data_short.reset_index(drop=True, inplace=True)\n",
    "print(true_data_short)"
   ]
  },
  {
   "cell_type": "code",
   "execution_count": 97,
   "id": "stainless-template",
   "metadata": {},
   "outputs": [],
   "source": [
    "popN = 21323733;\n",
    "f = open(\"csv_data/srilanka.txt\", \"w\")\n",
    "f.write(str(popN) + \"\\n\")\n",
    "f.close()\n",
    "\n",
    "true_data_short.to_csv('csv_data/srilanka.txt', mode='a', header=False, index=False, \\\n",
    "                       columns=['confirmed', 'recovered', 'deaths'], sep=' ')"
   ]
  },
  {
   "cell_type": "code",
   "execution_count": 98,
   "id": "small-mandate",
   "metadata": {},
   "outputs": [
    {
     "name": "stdout",
     "output_type": "stream",
     "text": [
      "Int64Index([151], dtype='int64')\n",
      "Int64Index([273], dtype='int64')\n"
     ]
    }
   ],
   "source": [
    "IFR_index1 = true_data_short.index[true_data_short['date'] == '2021-3-1']\n",
    "IFR_index2 = true_data_short.index[true_data_short['date'] == '2021-7-1']\n",
    "print(IFR_index1)\n",
    "print(IFR_index2)"
   ]
  },
  {
   "cell_type": "code",
   "execution_count": 99,
   "id": "scheduled-terrace",
   "metadata": {},
   "outputs": [],
   "source": [
    "df_vaccine = pd.read_csv(\"https://docs.google.com/spreadsheets/d/e/2PACX-1vSckZ9FalsiAE1J8XbRKMCX_BFVYlvGPUlbddAki12uUFNoqc8lTucv3rSGn8ARsnIcM7c2Y_o4MQYB/pub?output=csv\")\n",
    "vaccine_start_index = true_data.index[pd.to_datetime(true_data['date']) == pd.to_datetime(df_vaccine['Date'][0])]\n",
    "cumulative_vaccinated = np.concatenate((np.zeros([vaccine_start_index[0] - start_index[0]]), df_vaccine['Sum Dose 2']))\n",
    "\n",
    "# daily_vaccinated = np.concatenate(([0], np.diff(cumulative_vaccinated))) \n",
    "# print(len(daily_vaccinated))\n",
    "cumulative_vaccinated.astype(int).tofile('csv_data/srilanka_vaccinations.txt', sep = '\\n')"
   ]
  },
  {
   "cell_type": "code",
   "execution_count": 56,
   "id": "creative-equation",
   "metadata": {},
   "outputs": [
    {
     "data": {
      "text/plain": [
       "date         2021-3-26\n",
       "confirmed        91561\n",
       "deaths             557\n",
       "recovered        88145\n",
       "Name: 429, dtype: object"
      ]
     },
     "execution_count": 56,
     "metadata": {},
     "output_type": "execute_result"
    }
   ],
   "source": [
    "true_data.loc[start_index[0]+176]"
   ]
  },
  {
   "cell_type": "code",
   "execution_count": 57,
   "id": "stopped-narrative",
   "metadata": {},
   "outputs": [
    {
     "name": "stdout",
     "output_type": "stream",
     "text": [
      "176\n"
     ]
    }
   ],
   "source": []
  },
  {
   "cell_type": "code",
   "execution_count": null,
   "id": "suited-fluid",
   "metadata": {},
   "outputs": [],
   "source": []
  }
 ],
 "metadata": {
  "kernelspec": {
   "display_name": "Python 3",
   "language": "python",
   "name": "python3"
  },
  "language_info": {
   "codemirror_mode": {
    "name": "ipython",
    "version": 3
   },
   "file_extension": ".py",
   "mimetype": "text/x-python",
   "name": "python",
   "nbconvert_exporter": "python",
   "pygments_lexer": "ipython3",
   "version": "3.8.10"
  }
 },
 "nbformat": 4,
 "nbformat_minor": 5
}
