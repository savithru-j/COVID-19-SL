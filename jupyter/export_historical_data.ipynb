{
 "cells": [
  {
   "cell_type": "code",
   "execution_count": 1,
   "id": "billion-letter",
   "metadata": {},
   "outputs": [],
   "source": [
    "import numpy as np\n",
    "import matplotlib.pyplot as plt\n",
    "import pandas as pd"
   ]
  },
  {
   "cell_type": "code",
   "execution_count": 2,
   "id": "artistic-fever",
   "metadata": {},
   "outputs": [],
   "source": [
    "df_global = pd.read_json(\"https://pomber.github.io/covid19/timeseries.json\")\n",
    "df = df_global['Sri Lanka']"
   ]
  },
  {
   "cell_type": "code",
   "execution_count": 3,
   "id": "working-spyware",
   "metadata": {},
   "outputs": [
    {
     "name": "stdout",
     "output_type": "stream",
     "text": [
      "Index(['date', 'confirmed', 'deaths', 'recovered'], dtype='object')\n"
     ]
    },
    {
     "data": {
      "text/plain": [
       "0      2020-1-22\n",
       "1      2020-1-23\n",
       "2      2020-1-24\n",
       "3      2020-1-25\n",
       "4      2020-1-26\n",
       "         ...    \n",
       "585    2021-8-29\n",
       "586    2021-8-30\n",
       "587    2021-8-31\n",
       "588     2021-9-1\n",
       "589     2021-9-2\n",
       "Name: date, Length: 590, dtype: object"
      ]
     },
     "execution_count": 3,
     "metadata": {},
     "output_type": "execute_result"
    }
   ],
   "source": [
    "true_data = pd.json_normalize(df)\n",
    "print(true_data.columns)\n",
    "true_data['date']"
   ]
  },
  {
   "cell_type": "code",
   "execution_count": 4,
   "id": "printable-finance",
   "metadata": {},
   "outputs": [
    {
     "name": "stdout",
     "output_type": "stream",
     "text": [
      "253\n",
      "          date  confirmed  deaths  recovered\n",
      "0    2020-10-1       3382      13       3233\n",
      "1    2020-10-2       3388      13       3245\n",
      "2    2020-10-3       3395      13       3254\n",
      "3    2020-10-4       3402      13       3258\n",
      "4    2020-10-5       3513      13       3259\n",
      "..         ...        ...     ...        ...\n",
      "331  2021-8-28     421557    8583          0\n",
      "332  2021-8-29     426169    8775          0\n",
      "333  2021-8-30     436081    8991          0\n",
      "334  2021-8-31     440302    9185          0\n",
      "335   2021-9-1     444130    9400          0\n",
      "\n",
      "[336 rows x 4 columns]\n"
     ]
    }
   ],
   "source": [
    "start_index = true_data.index[true_data['date'] == '2020-10-1']\n",
    "print(start_index[0])\n",
    "true_data.loc[start_index[0]]\n",
    "true_data_short = true_data[start_index[0]:-1]\n",
    "true_data_short.reset_index(drop=True, inplace=True)\n",
    "print(true_data_short)"
   ]
  },
  {
   "cell_type": "code",
   "execution_count": 6,
   "id": "stainless-template",
   "metadata": {},
   "outputs": [],
   "source": [
    "popN = 21323733;\n",
    "f = open(\"csv_data/srilanka.txt\", \"w\")\n",
    "f.write(str(popN) + \"\\n\")\n",
    "f.close()\n",
    "\n",
    "true_data_short.to_csv('csv_data/srilanka.txt', mode='a', header=False, index=False, \\\n",
    "                       columns=['confirmed', 'recovered', 'deaths'], sep=' ')"
   ]
  },
  {
   "cell_type": "code",
   "execution_count": 7,
   "id": "small-mandate",
   "metadata": {},
   "outputs": [
    {
     "name": "stdout",
     "output_type": "stream",
     "text": [
      "Int64Index([151], dtype='int64')\n",
      "Int64Index([273], dtype='int64')\n"
     ]
    }
   ],
   "source": [
    "IFR_index1 = true_data_short.index[true_data_short['date'] == '2021-3-1']\n",
    "IFR_index2 = true_data_short.index[true_data_short['date'] == '2021-7-1']\n",
    "print(IFR_index1)\n",
    "print(IFR_index2)"
   ]
  },
  {
   "cell_type": "code",
   "execution_count": null,
   "id": "scheduled-terrace",
   "metadata": {},
   "outputs": [],
   "source": []
  }
 ],
 "metadata": {
  "kernelspec": {
   "display_name": "Python 3",
   "language": "python",
   "name": "python3"
  },
  "language_info": {
   "codemirror_mode": {
    "name": "ipython",
    "version": 3
   },
   "file_extension": ".py",
   "mimetype": "text/x-python",
   "name": "python",
   "nbconvert_exporter": "python",
   "pygments_lexer": "ipython3",
   "version": "3.8.10"
  }
 },
 "nbformat": 4,
 "nbformat_minor": 5
}
