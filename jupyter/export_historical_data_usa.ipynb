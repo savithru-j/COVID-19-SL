{
 "cells": [
  {
   "cell_type": "code",
   "execution_count": 1,
   "id": "billion-letter",
   "metadata": {},
   "outputs": [],
   "source": [
    "import numpy as np\n",
    "import matplotlib.pyplot as plt\n",
    "import pandas as pd"
   ]
  },
  {
   "cell_type": "code",
   "execution_count": 3,
   "id": "artistic-fever",
   "metadata": {},
   "outputs": [],
   "source": [
    "df_global = pd.read_json(\"https://pomber.github.io/covid19/timeseries.json\")\n",
    "df = df_global['US']"
   ]
  },
  {
   "cell_type": "code",
   "execution_count": 4,
   "id": "working-spyware",
   "metadata": {},
   "outputs": [
    {
     "name": "stdout",
     "output_type": "stream",
     "text": [
      "Index(['date', 'confirmed', 'deaths', 'recovered'], dtype='object')\n"
     ]
    },
    {
     "data": {
      "text/plain": [
       "0       2020-1-22\n",
       "1       2020-1-23\n",
       "2       2020-1-24\n",
       "3       2020-1-25\n",
       "4       2020-1-26\n",
       "          ...    \n",
       "699    2021-12-21\n",
       "700    2021-12-22\n",
       "701    2021-12-23\n",
       "702    2021-12-24\n",
       "703    2021-12-25\n",
       "Name: date, Length: 704, dtype: object"
      ]
     },
     "execution_count": 4,
     "metadata": {},
     "output_type": "execute_result"
    }
   ],
   "source": [
    "true_data = pd.json_normalize(df)\n",
    "print(true_data.columns)\n",
    "true_data['date']"
   ]
  },
  {
   "cell_type": "code",
   "execution_count": 5,
   "id": "printable-finance",
   "metadata": {},
   "outputs": [
    {
     "name": "stdout",
     "output_type": "stream",
     "text": [
      "0\n",
      "           date  confirmed  deaths  recovered\n",
      "0     2020-1-22          1       0          0\n",
      "1     2020-1-23          1       0          0\n",
      "2     2020-1-24          2       0          0\n",
      "3     2020-1-25          2       0          0\n",
      "4     2020-1-26          5       0          0\n",
      "..          ...        ...     ...        ...\n",
      "699  2021-12-21   51312430  810045          0\n",
      "700  2021-12-22   51553481  812069          0\n",
      "701  2021-12-23   51814820  815423          0\n",
      "702  2021-12-24   51966735  816436          0\n",
      "703  2021-12-25   52095411  816463          0\n",
      "\n",
      "[704 rows x 4 columns]\n"
     ]
    }
   ],
   "source": [
    "start_index = true_data.index[true_data['date'] == '2020-1-22']\n",
    "print(start_index[0])\n",
    "true_data.loc[start_index[0]]\n",
    "true_data_short = true_data[start_index[0]::]\n",
    "true_data_short.reset_index(drop=True, inplace=True)\n",
    "print(true_data_short)"
   ]
  },
  {
   "cell_type": "code",
   "execution_count": 6,
   "id": "stainless-template",
   "metadata": {},
   "outputs": [],
   "source": [
    "popN = 332915074;\n",
    "f = open(\"csv_data/usa.txt\", \"w\")\n",
    "f.write(str(popN) + \"\\n\")\n",
    "f.close()\n",
    "\n",
    "true_data_short.to_csv('csv_data/usa.txt', mode='a', header=False, index=False, \\\n",
    "                       columns=['confirmed', 'recovered', 'deaths'], sep=' ')"
   ]
  },
  {
   "cell_type": "code",
   "execution_count": 7,
   "id": "small-mandate",
   "metadata": {},
   "outputs": [
    {
     "name": "stdout",
     "output_type": "stream",
     "text": [
      "Int64Index([404], dtype='int64')\n",
      "Int64Index([526], dtype='int64')\n"
     ]
    }
   ],
   "source": [
    "IFR_index1 = true_data_short.index[true_data_short['date'] == '2021-3-1']\n",
    "IFR_index2 = true_data_short.index[true_data_short['date'] == '2021-7-1']\n",
    "print(IFR_index1)\n",
    "print(IFR_index2)"
   ]
  },
  {
   "cell_type": "code",
   "execution_count": null,
   "id": "suited-fluid",
   "metadata": {},
   "outputs": [],
   "source": []
  }
 ],
 "metadata": {
  "kernelspec": {
   "display_name": "Python 3",
   "language": "python",
   "name": "python3"
  },
  "language_info": {
   "codemirror_mode": {
    "name": "ipython",
    "version": 3
   },
   "file_extension": ".py",
   "mimetype": "text/x-python",
   "name": "python",
   "nbconvert_exporter": "python",
   "pygments_lexer": "ipython3",
   "version": "3.8.10"
  }
 },
 "nbformat": 4,
 "nbformat_minor": 5
}
